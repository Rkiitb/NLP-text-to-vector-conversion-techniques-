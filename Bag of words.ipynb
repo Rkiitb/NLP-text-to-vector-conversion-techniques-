{
 "cells": [
  {
   "cell_type": "code",
   "execution_count": 50,
   "id": "dad33b94",
   "metadata": {},
   "outputs": [],
   "source": [
    "import numpy as np\n",
    "import pandas as pd \n"
   ]
  },
  {
   "cell_type": "code",
   "execution_count": 51,
   "id": "aed0a882",
   "metadata": {},
   "outputs": [],
   "source": [
    "corpus=['I am Iron Man.' , \"No amount of money ever bought a second of time.\" ,\"The Hardest Choices Require the Strongest Wills.\"]"
   ]
  },
  {
   "cell_type": "code",
   "execution_count": 52,
   "id": "d2f818e0",
   "metadata": {},
   "outputs": [
    {
     "data": {
      "text/plain": [
       "['I am Iron Man.',\n",
       " 'No amount of money ever bought a second of time.',\n",
       " 'The Hardest Choices Require the Strongest Wills.']"
      ]
     },
     "execution_count": 52,
     "metadata": {},
     "output_type": "execute_result"
    }
   ],
   "source": [
    "corpus"
   ]
  },
  {
   "cell_type": "code",
   "execution_count": 53,
   "id": "52f1c9f9",
   "metadata": {},
   "outputs": [],
   "source": [
    "from sklearn.feature_extraction.text import CountVectorizer"
   ]
  },
  {
   "cell_type": "code",
   "execution_count": 54,
   "id": "06a96f7c",
   "metadata": {},
   "outputs": [],
   "source": [
    "cv=CountVectorizer()"
   ]
  },
  {
   "cell_type": "code",
   "execution_count": 55,
   "id": "8758e2c2",
   "metadata": {},
   "outputs": [],
   "source": [
    "bow=cv.fit_transform(corpus)"
   ]
  },
  {
   "cell_type": "code",
   "execution_count": 56,
   "id": "717facba",
   "metadata": {},
   "outputs": [],
   "source": [
    "vocab=cv.vocabulary_"
   ]
  },
  {
   "cell_type": "code",
   "execution_count": 57,
   "id": "eaeccd32",
   "metadata": {},
   "outputs": [
    {
     "data": {
      "text/plain": [
       "{'am': 0,\n",
       " 'iron': 6,\n",
       " 'man': 7,\n",
       " 'no': 9,\n",
       " 'amount': 1,\n",
       " 'of': 10,\n",
       " 'money': 8,\n",
       " 'ever': 4,\n",
       " 'bought': 2,\n",
       " 'second': 12,\n",
       " 'time': 15,\n",
       " 'the': 14,\n",
       " 'hardest': 5,\n",
       " 'choices': 3,\n",
       " 'require': 11,\n",
       " 'strongest': 13,\n",
       " 'wills': 16}"
      ]
     },
     "execution_count": 57,
     "metadata": {},
     "output_type": "execute_result"
    }
   ],
   "source": [
    "vocab"
   ]
  },
  {
   "cell_type": "code",
   "execution_count": 58,
   "id": "791e12ce",
   "metadata": {},
   "outputs": [
    {
     "data": {
      "text/plain": [
       "['am',\n",
       " 'amount',\n",
       " 'bought',\n",
       " 'choices',\n",
       " 'ever',\n",
       " 'hardest',\n",
       " 'iron',\n",
       " 'man',\n",
       " 'money',\n",
       " 'no',\n",
       " 'of',\n",
       " 'require',\n",
       " 'second',\n",
       " 'strongest',\n",
       " 'the',\n",
       " 'time',\n",
       " 'wills']"
      ]
     },
     "execution_count": 58,
     "metadata": {},
     "output_type": "execute_result"
    }
   ],
   "source": [
    "cv.get_feature_names()"
   ]
  },
  {
   "cell_type": "markdown",
   "id": "65944274",
   "metadata": {},
   "source": [
    "as you see CountVectorizer class preprocssed the data also"
   ]
  },
  {
   "cell_type": "code",
   "execution_count": 60,
   "id": "56056d49",
   "metadata": {},
   "outputs": [],
   "source": [
    "new_document=[\"Man requires money money.\"]"
   ]
  },
  {
   "cell_type": "code",
   "execution_count": 61,
   "id": "44b5af9a",
   "metadata": {},
   "outputs": [
    {
     "data": {
      "text/plain": [
       "array([[0, 0, 0, 0, 0, 0, 0, 1, 2, 0, 0, 0, 0, 0, 0, 0, 0]], dtype=int64)"
      ]
     },
     "execution_count": 61,
     "metadata": {},
     "output_type": "execute_result"
    }
   ],
   "source": [
    "cv.transform(new_document).toarray()"
   ]
  },
  {
   "cell_type": "code",
   "execution_count": null,
   "id": "62f043b1",
   "metadata": {},
   "outputs": [],
   "source": []
  }
 ],
 "metadata": {
  "kernelspec": {
   "display_name": "Python 3 (ipykernel)",
   "language": "python",
   "name": "python3"
  },
  "language_info": {
   "codemirror_mode": {
    "name": "ipython",
    "version": 3
   },
   "file_extension": ".py",
   "mimetype": "text/x-python",
   "name": "python",
   "nbconvert_exporter": "python",
   "pygments_lexer": "ipython3",
   "version": "3.9.7"
  }
 },
 "nbformat": 4,
 "nbformat_minor": 5
}
