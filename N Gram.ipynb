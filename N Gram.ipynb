{
 "cells": [
  {
   "cell_type": "code",
   "execution_count": 1,
   "id": "6a515e14",
   "metadata": {},
   "outputs": [],
   "source": [
    "import numpy as np \n",
    "import pandas as pd\n"
   ]
  },
  {
   "cell_type": "code",
   "execution_count": 19,
   "id": "127382cd",
   "metadata": {},
   "outputs": [],
   "source": [
    "data=['IF YOU’RE NOTHING WITHOUT THIS SUIT, THEN YOU SHOULDN’T HAVE IT.' ,\n",
    "'IT’S AN IMPERFECT WORLD, BUT IT’S THE ONLY ONE WE’VE GOT.' ,\n",
    "'JUST BECAUSE SOMETHING WORKS, DOESN’T MEAN IT CAN’T BE IMPROVED.',\n",
    "      \n",
    "]"
   ]
  },
  {
   "cell_type": "code",
   "execution_count": 20,
   "id": "6c4b2287",
   "metadata": {},
   "outputs": [
    {
     "data": {
      "text/plain": [
       "['IF YOU’RE NOTHING WITHOUT THIS SUIT, THEN YOU SHOULDN’T HAVE IT.',\n",
       " 'IT’S AN IMPERFECT WORLD, BUT IT’S THE ONLY ONE WE’VE GOT.',\n",
       " 'JUST BECAUSE SOMETHING WORKS, DOESN’T MEAN IT CAN’T BE IMPROVED.']"
      ]
     },
     "execution_count": 20,
     "metadata": {},
     "output_type": "execute_result"
    }
   ],
   "source": [
    "data"
   ]
  },
  {
   "cell_type": "code",
   "execution_count": 21,
   "id": "cc8f28ac",
   "metadata": {},
   "outputs": [],
   "source": [
    "from sklearn.feature_extraction.text import CountVectorizer"
   ]
  },
  {
   "cell_type": "markdown",
   "id": "f7b8dad8",
   "metadata": {},
   "source": [
    "cv=CountVectorizer(ngram_range=(2,2))"
   ]
  },
  {
   "cell_type": "markdown",
   "id": "3d0d6697",
   "metadata": {},
   "source": [
    "If we choose the ngram_range=(1,2), it means that our vocabulary will include both unigrams (individual words) and bigrams (sequences of two words)."
   ]
  },
  {
   "cell_type": "code",
   "execution_count": 23,
   "id": "d27def8a",
   "metadata": {},
   "outputs": [],
   "source": [
    "bow=cv.fit_transform(data)"
   ]
  },
  {
   "cell_type": "code",
   "execution_count": 26,
   "id": "063eadde",
   "metadata": {},
   "outputs": [
    {
     "data": {
      "text/plain": [
       "array([0, 0, 0, 0, 0, 0, 1, 1, 0, 0, 0, 0, 0, 0, 1, 0, 0, 1, 1, 0, 1, 0,\n",
       "       1, 1, 0, 0, 1, 0, 0, 1, 1], dtype=int64)"
      ]
     },
     "execution_count": 26,
     "metadata": {},
     "output_type": "execute_result"
    }
   ],
   "source": [
    "bow.toarray()[0]       ## array for IF YOU’RE NOTHING WITHOUT THIS SUIT, THEN YOU SHOULDN’T HAVE IT"
   ]
  },
  {
   "cell_type": "code",
   "execution_count": 43,
   "id": "c4b25e77",
   "metadata": {
    "scrolled": true
   },
   "outputs": [
    {
     "data": {
      "text/plain": [
       "{'if you': 7,\n",
       " 'you re': 29,\n",
       " 're nothing': 17,\n",
       " 'nothing without': 14,\n",
       " 'without this': 26,\n",
       " 'this suit': 23,\n",
       " 'suit then': 20,\n",
       " 'then you': 22,\n",
       " 'you shouldn': 30,\n",
       " 'shouldn have': 18,\n",
       " 'have it': 6,\n",
       " 'it an': 9,\n",
       " 'an imperfect': 0,\n",
       " 'imperfect world': 8,\n",
       " 'world but': 28,\n",
       " 'but it': 3,\n",
       " 'it the': 11,\n",
       " 'the only': 21,\n",
       " 'only one': 16,\n",
       " 'one we': 15,\n",
       " 'we ve': 25,\n",
       " 've got': 24,\n",
       " 'just because': 12,\n",
       " 'because something': 2,\n",
       " 'something works': 19,\n",
       " 'works doesn': 27,\n",
       " 'doesn mean': 5,\n",
       " 'mean it': 13,\n",
       " 'it can': 10,\n",
       " 'can be': 4,\n",
       " 'be improved': 1}"
      ]
     },
     "execution_count": 43,
     "metadata": {},
     "output_type": "execute_result"
    }
   ],
   "source": [
    "cv.vocabulary_"
   ]
  },
  {
   "cell_type": "code",
   "execution_count": 35,
   "id": "86445467",
   "metadata": {},
   "outputs": [],
   "source": [
    "new_text=['The only one who can determine this is you']"
   ]
  },
  {
   "cell_type": "code",
   "execution_count": 36,
   "id": "c356c967",
   "metadata": {},
   "outputs": [
    {
     "data": {
      "text/plain": [
       "array([[0, 0, 0, 0, 0, 0, 0, 0, 0, 0, 0, 0, 0, 0, 0, 0, 1, 0, 0, 0, 0, 1,\n",
       "        0, 0, 0, 0, 0, 0, 0, 0, 0]], dtype=int64)"
      ]
     },
     "execution_count": 36,
     "metadata": {},
     "output_type": "execute_result"
    }
   ],
   "source": [
    "cv.transform(new_text).toarray()"
   ]
  },
  {
   "cell_type": "markdown",
   "id": "9b55bd1b",
   "metadata": {},
   "source": [
    "## if you have OoV(out of Vocabulary) document"
   ]
  },
  {
   "cell_type": "code",
   "execution_count": 30,
   "id": "620b12b1",
   "metadata": {},
   "outputs": [],
   "source": [
    "oov_data=[\"my name is khan \"]"
   ]
  },
  {
   "cell_type": "code",
   "execution_count": 32,
   "id": "f5d87860",
   "metadata": {},
   "outputs": [
    {
     "data": {
      "text/plain": [
       "array([[0, 0, 0, 0, 0, 0, 0, 0, 0, 0, 0, 0, 0, 0, 0, 0, 0, 0, 0, 0, 0, 0,\n",
       "        0, 0, 0, 0, 0, 0, 0, 0, 0]], dtype=int64)"
      ]
     },
     "execution_count": 32,
     "metadata": {},
     "output_type": "execute_result"
    }
   ],
   "source": [
    "cv.transform(oov_data).toarray()"
   ]
  },
  {
   "cell_type": "markdown",
   "id": "f19ccdb9",
   "metadata": {},
   "source": [
    "it simply ignore the oov words "
   ]
  },
  {
   "cell_type": "code",
   "execution_count": null,
   "id": "e8806bf9",
   "metadata": {},
   "outputs": [],
   "source": []
  }
 ],
 "metadata": {
  "kernelspec": {
   "display_name": "Python 3 (ipykernel)",
   "language": "python",
   "name": "python3"
  },
  "language_info": {
   "codemirror_mode": {
    "name": "ipython",
    "version": 3
   },
   "file_extension": ".py",
   "mimetype": "text/x-python",
   "name": "python",
   "nbconvert_exporter": "python",
   "pygments_lexer": "ipython3",
   "version": "3.9.7"
  }
 },
 "nbformat": 4,
 "nbformat_minor": 5
}
